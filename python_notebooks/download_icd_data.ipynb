{
 "cells": [
  {
   "cell_type": "markdown",
   "id": "fb950707",
   "metadata": {
    "pycharm": {
     "name": "#%% md\n"
    }
   },
   "source": [
    "Do initial setup. This involves the next four code-blocks:\n",
    "1. Import required modules:\n",
    "        * pyspark – allows for running on multiple nodes\n",
    "        * dxpy – allows for querying DNANexus-specific files\n",
    "        * dxdata – allows for querying DNANexus-specific databases\n",
    "        * pandas – dataframe manipulation\n",
    "2. Connect to the pyspark cluster to be able to pull UK Biobank data, structured in a mysql-like database\n",
    "3. Use dxpy to find the database ‘file’ in our current project.\n",
    "4. Load the database into this instance with the dxdata package"
   ]
  },
  {
   "cell_type": "code",
   "execution_count": 1,
   "id": "75b2bdb6",
   "metadata": {
    "pycharm": {
     "name": "#%%\n"
    }
   },
   "outputs": [],
   "source": [
    "import pyspark\n",
    "import dxpy\n",
    "import dxdata\n",
    "import pandas as pd\n",
    "import numpy as np\n",
    "import subprocess\n",
    "import math"
   ]
  },
  {
   "cell_type": "code",
   "execution_count": 2,
   "id": "c655561c",
   "metadata": {
    "pycharm": {
     "name": "#%%\n"
    }
   },
   "outputs": [],
   "source": [
    "sc = pyspark.SparkContext()\n",
    "spark = pyspark.sql.SparkSession(sc)"
   ]
  },
  {
   "cell_type": "code",
   "execution_count": 3,
   "id": "5223ddca",
   "metadata": {
    "pycharm": {
     "name": "#%%\n"
    }
   },
   "outputs": [],
   "source": [
    "dispensed_dataset_id = dxpy.find_one_data_object(typename = \"Dataset\",\n",
    "                                                name = \"app*.dataset\", folder = \"/\",\n",
    "                                                name_mode = \"glob\") [\"id\"]"
   ]
  },
  {
   "cell_type": "code",
   "execution_count": 4,
   "id": "b73c8074",
   "metadata": {
    "pycharm": {
     "name": "#%%\n"
    }
   },
   "outputs": [
    {
     "data": {
      "text/plain": [
       "[<Entity \"participant\">,\n",
       " <Entity \"death\">,\n",
       " <Entity \"death_cause\">,\n",
       " <Entity \"hesin\">,\n",
       " <Entity \"hesin_critical\">,\n",
       " <Entity \"hesin_delivery\">,\n",
       " <Entity \"hesin_diag\">,\n",
       " <Entity \"hesin_maternity\">,\n",
       " <Entity \"hesin_oper\">,\n",
       " <Entity \"hesin_psych\">,\n",
       " <Entity \"covid19_result_england\">,\n",
       " <Entity \"covid19_result_scotland\">,\n",
       " <Entity \"covid19_result_wales\">,\n",
       " <Entity \"gp_clinical\">,\n",
       " <Entity \"gp_registrations\">,\n",
       " <Entity \"gp_scripts\">]"
      ]
     },
     "execution_count": 4,
     "metadata": {},
     "output_type": "execute_result"
    }
   ],
   "source": [
    "dataset = dxdata.load_dataset(id = dispensed_dataset_id)\n",
    "dataset.entities"
   ]
  },
  {
   "cell_type": "markdown",
   "id": "ebe3fe63",
   "metadata": {
    "pycharm": {
     "name": "#%% md\n"
    }
   },
   "source": [
    "Now we get the participant sql table, which provides the dxdata package with information\n",
    "to extract individual participant information."
   ]
  },
  {
   "cell_type": "code",
   "execution_count": 5,
   "id": "af4bca21",
   "metadata": {
    "pycharm": {
     "name": "#%%\n"
    }
   },
   "outputs": [],
   "source": [
    "participant = dataset[\"participant\"]"
   ]
  },
  {
   "cell_type": "markdown",
   "id": "c1cd545a",
   "metadata": {
    "pycharm": {
     "name": "#%% md\n"
    }
   },
   "source": [
    "Generate a set of all possible field names to allow for easy querying (built in find_fields is _TERRIBLE_)."
   ]
  },
  {
   "cell_type": "code",
   "execution_count": 18,
   "id": "46a12f35",
   "metadata": {
    "pycharm": {
     "name": "#%%\n"
    }
   },
   "outputs": [],
   "source": [
    "all_fields = participant.fields\n",
    "all_names = set()\n",
    "\n",
    "for field in all_fields:\n",
    "    all_names.add(field.name)"
   ]
  },
  {
   "cell_type": "markdown",
   "id": "49d5fed6",
   "metadata": {
    "pycharm": {
     "name": "#%% md\n"
    }
   },
   "source": [
    "Now use the participant table to pull specific data fields from the UK Biobank database. The find_field method simply takes a UKBiobank field ID (e.g. field 22001 is genetic sex). Here we need to extract several fields:"
   ]
  },
  {
   "cell_type": "code",
   "execution_count": 37,
   "id": "bf924d17",
   "metadata": {
    "pycharm": {
     "name": "#%%\n"
    }
   },
   "outputs": [],
   "source": [
    "search_strings = [\n",
    "    '40006', # Cancer ICD-10\n",
    "    '40013', # Cancer ICD-9\n",
    "    '41270', # HES ICD-10\n",
    "    '41271', # HES ICD-9\n",
    "    '40001', # Primary Death ICD-10\n",
    "    '40002'  # Secondary Death ICD_10\n",
    "                 ]\n",
    "for search in search_strings:\n",
    "    query = ['eid']\n",
    "    for title in all_names:\n",
    "        if search in title:\n",
    "            query.append(title)\n",
    "            \n",
    "    df = participant.retrieve_fields(names = query,\n",
    "                                     coding_values = \"keep\",\n",
    "                                     engine = dxdata.connect())\n",
    "    df_pandas = df.toPandas()\n",
    "    df_pandas.to_csv(f'{search}_extracted.tsv', sep = \"\\t\", na_rep=\"NA\", index=False)\n"
   ]
  },
  {
   "cell_type": "markdown",
   "id": "90b72d20",
   "metadata": {
    "pycharm": {
     "name": "#%% md\n"
    }
   },
   "source": [
    "Here we are actually extracting the per-individual values. "
   ]
  }
 ],
 "metadata": {
  "kernelspec": {
   "display_name": "Python 3",
   "language": "python",
   "name": "python3"
  },
  "language_info": {
   "codemirror_mode": {
    "name": "ipython",
    "version": 3
   },
   "file_extension": ".py",
   "mimetype": "text/x-python",
   "name": "python",
   "nbconvert_exporter": "python",
   "pygments_lexer": "ipython3",
   "version": "3.6.5"
  }
 },
 "nbformat": 4,
 "nbformat_minor": 5
}