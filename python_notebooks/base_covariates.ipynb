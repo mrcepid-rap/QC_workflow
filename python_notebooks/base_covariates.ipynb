{
 "cells": [
  {
   "cell_type": "markdown",
   "id": "7d471d55",
   "metadata": {
    "pycharm": {
     "name": "#%% md\n"
    }
   },
   "source": [
    "Do initial setup. This involves the next four code-blocks:\n",
    "1. Import required modules:\n",
    "        * pyspark – allows for running on multiple nodes\n",
    "        * dxpy – allows for querying DNANexus-specific files\n",
    "        * dxdata – allows for querying DNANexus-specific databases\n",
    "        * pandas – dataframe manipulation\n",
    "2. Connect to the pyspark cluster to be able to pull UK Biobank data, structured in a mysql-like database\n",
    "3. Use dxpy to find the database ‘file’ in our current project.\n",
    "4. Load the database into this instance with the dxdata package"
   ]
  },
  {
   "cell_type": "code",
   "execution_count": 34,
   "id": "10a3691e",
   "metadata": {
    "pycharm": {
     "name": "#%%\n"
    }
   },
   "outputs": [],
   "source": [
    "import pyspark\n",
    "import dxpy\n",
    "import dxdata\n",
    "import pandas as pd\n",
    "import numpy as np\n",
    "import subprocess\n",
    "import math"
   ]
  },
  {
   "cell_type": "code",
   "execution_count": 2,
   "id": "a70efd31",
   "metadata": {
    "pycharm": {
     "name": "#%%\n"
    }
   },
   "outputs": [],
   "source": [
    "sc = pyspark.SparkContext()\n",
    "spark = pyspark.sql.SparkSession(sc)"
   ]
  },
  {
   "cell_type": "code",
   "execution_count": 3,
   "id": "18d8d23c",
   "metadata": {
    "pycharm": {
     "name": "#%%\n"
    }
   },
   "outputs": [],
   "source": [
    "dispensed_dataset_id = dxpy.find_one_data_object(typename = \"Dataset\",\n",
    "                                                name = \"app*.dataset\", folder = \"/\",\n",
    "                                                name_mode = \"glob\") [\"id\"]"
   ]
  },
  {
   "cell_type": "code",
   "execution_count": 4,
   "id": "82e4d7e0",
   "metadata": {
    "pycharm": {
     "name": "#%%\n"
    }
   },
   "outputs": [
    {
     "data": {
      "text/plain": [
       "[<Entity \"participant\">,\n",
       " <Entity \"death\">,\n",
       " <Entity \"death_cause\">,\n",
       " <Entity \"hesin\">,\n",
       " <Entity \"hesin_critical\">,\n",
       " <Entity \"hesin_delivery\">,\n",
       " <Entity \"hesin_diag\">,\n",
       " <Entity \"hesin_maternity\">,\n",
       " <Entity \"hesin_oper\">,\n",
       " <Entity \"hesin_psych\">,\n",
       " <Entity \"covid19_result_england\">,\n",
       " <Entity \"covid19_result_scotland\">,\n",
       " <Entity \"covid19_result_wales\">,\n",
       " <Entity \"gp_clinical\">,\n",
       " <Entity \"gp_registrations\">,\n",
       " <Entity \"gp_scripts\">]"
      ]
     },
     "execution_count": 4,
     "metadata": {},
     "output_type": "execute_result"
    }
   ],
   "source": [
    "dataset = dxdata.load_dataset(id = dispensed_dataset_id)\n",
    "dataset.entities"
   ]
  },
  {
   "cell_type": "markdown",
   "id": "edda87be",
   "metadata": {
    "pycharm": {
     "name": "#%% md\n"
    }
   },
   "source": [
    "Now we get the participant sql table, which provides the dxdata package with information\n",
    "to extract individual participant information."
   ]
  },
  {
   "cell_type": "code",
   "execution_count": 5,
   "id": "bb54bd50",
   "metadata": {
    "pycharm": {
     "name": "#%%\n"
    }
   },
   "outputs": [],
   "source": [
    "participant = dataset[\"participant\"]"
   ]
  },
  {
   "cell_type": "markdown",
   "id": "7422a083",
   "metadata": {
    "pycharm": {
     "name": "#%% md\n"
    }
   },
   "source": [
    "Now use the participant table to pull specific data fields from the UK Biobank database. The find_field method simply takes a UKBiobank field ID (e.g. field 22001 is genetic sex). Here we need to extract several fields:"
   ]
  },
  {
   "cell_type": "code",
   "execution_count": 18,
   "id": "8fe24ad0",
   "metadata": {
    "pycharm": {
     "name": "#%%\n"
    }
   },
   "outputs": [],
   "source": [
    "search_fields = ['eid', 'p22001', 'p21003_i0']\n",
    "rename_dict = {'p22001': '22001-0.0', 'p21003_i0': '21003-0.0'}\n",
    "for PC in range(1,41):\n",
    "    search_fields.append(f'p22009_a{PC}')\n",
    "    rename_dict[f'p22009_a{PC}'] = f'22009-0.{PC}'\n",
    "    "
   ]
  },
  {
   "cell_type": "markdown",
   "id": "d5b5bcd8",
   "metadata": {
    "pycharm": {
     "name": "#%% md\n"
    }
   },
   "source": [
    "Here we are actually extracting the per-individual values. "
   ]
  },
  {
   "cell_type": "code",
   "execution_count": 20,
   "id": "c3d31e2c",
   "metadata": {
    "pycharm": {
     "name": "#%%\n"
    }
   },
   "outputs": [],
   "source": [
    "df = participant.retrieve_fields(names = search_fields,\n",
    "                                 coding_values = \"keep\",\n",
    "                                 engine = dxdata.connect())"
   ]
  },
  {
   "cell_type": "code",
   "execution_count": 80,
   "id": "b4e422ad",
   "metadata": {
    "pycharm": {
     "name": "#%%\n"
    }
   },
   "outputs": [],
   "source": [
    "# Convert data frame to Pandas\n",
    "df_pandas = df.toPandas()"
   ]
  },
  {
   "cell_type": "markdown",
   "id": "f7fbd228",
   "metadata": {
    "pycharm": {
     "name": "#%% md\n"
    }
   },
   "source": [
    "Now we are going to get information on the WES batch for each study individual. This requires bcftools to be installed. To install bcftools in a pycharm spark instance, open a new terminal and type:\n",
    "\n",
    "```\n",
    "sudo apt-get update\n",
    "apt-get intall bcftools\n",
    "```"
   ]
  },
  {
   "cell_type": "code",
   "execution_count": 9,
   "id": "554f12b2",
   "metadata": {
    "pycharm": {
     "name": "#%%\n"
    }
   },
   "outputs": [],
   "source": [
    "# Define file IDs for each VCF we need:\n",
    "vcf_200k = 'file-Fz7GfKjJfQZy0y652gXxxYJz'\n",
    "vcf_450k = 'file-G56qJV8JykJqJ3p94qzbgFbq'\n",
    "vcf_470k = 'file-G97fyZ8JykJV073Z34fYgYz9'\n",
    "\n",
    "dxpy.download_dxfile(vcf_200k, '200k_chrY.vcf.gz', project='project-GFPBQv8J0zVvBX9XJyqyqYz1')\n",
    "dxpy.download_dxfile(vcf_450k, '450k_chrY.vcf.gz', project='project-GFPBQv8J0zVvBX9XJyqyqYz1')\n",
    "dxpy.download_dxfile(vcf_470k, '470k_chrY.vcf.gz', project='project-GFPBQv8J0zVvBX9XJyqyqYz1')"
   ]
  },
  {
   "cell_type": "code",
   "execution_count": 10,
   "id": "51ececb6",
   "metadata": {
    "pycharm": {
     "name": "#%%\n"
    }
   },
   "outputs": [
    {
     "name": "stdout",
     "output_type": "stream",
     "text": [
      "bcftools query -l 200k_chrY.vcf.gz > 200k_samples.txt\n",
      "bcftools query -l 450k_chrY.vcf.gz > 450k_samples.txt\n",
      "bcftools query -l 470k_chrY.vcf.gz > 470k_samples.txt\n"
     ]
    }
   ],
   "source": [
    "for version in ['200k', '450k', '470k']:\n",
    "    cmd = f'bcftools query -l {version}_chrY.vcf.gz > {version}_samples.txt'\n",
    "    proc = subprocess.Popen(cmd, shell=True, stdout=subprocess.PIPE, stderr=subprocess.PIPE)\n",
    "    stdout, stderr = proc.communicate()\n",
    "    print(cmd)"
   ]
  },
  {
   "cell_type": "code",
   "execution_count": 76,
   "id": "bf15b8ce",
   "metadata": {
    "pycharm": {
     "name": "#%%\n"
    }
   },
   "outputs": [
    {
     "name": "stdout",
     "output_type": "stream",
     "text": [
      "469835\n",
      "454756\n",
      "200643\n"
     ]
    }
   ],
   "source": [
    "file_470k = open('470k_samples.txt', 'r')\n",
    "samples_470k = set()\n",
    "for sample in file_470k:\n",
    "    sample = sample.rstrip()\n",
    "    samples_470k.add(sample)\n",
    "print(len(samples_470k))\n",
    "\n",
    "file_450k = open('450k_samples.txt', 'r')\n",
    "samples_450k = set()\n",
    "for sample in file_450k:\n",
    "    sample = sample.rstrip()\n",
    "    samples_450k.add(sample)\n",
    "print(len(samples_450k))\n",
    "    \n",
    "file_200k = open('200k_samples.txt', 'r')\n",
    "samples_200k = set()\n",
    "for sample in file_200k:\n",
    "    sample = sample.rstrip()\n",
    "    samples_200k.add(sample)    \n",
    "print(len(samples_200k))"
   ]
  },
  {
   "cell_type": "markdown",
   "id": "1a60d991",
   "metadata": {
    "pycharm": {
     "name": "#%% md\n"
    }
   },
   "source": [
    "Here we are just lightly reformatting the pandas dataframe to get it into the shape we want. See below for specific changes"
   ]
  },
  {
   "cell_type": "code",
   "execution_count": 81,
   "id": "9d2b01f6",
   "metadata": {
    "pycharm": {
     "name": "#%%\n"
    }
   },
   "outputs": [],
   "source": [
    "# Set names to the old-school versions from the UKBB file pre-DNANexus for compatability\n",
    "df_pandas = df_pandas.rename(columns = rename_dict)\n",
    "\n",
    "# Cast sex to an int. I convert to a string to force into 'int' as numpy does not have an NA int dtype\n",
    "df_pandas['22001-0.0'] = df_pandas['22001-0.0'].apply(lambda x: 'NA' if np.isnan(x) else str(int(x)))\n",
    "\n",
    "# Decide which batch an individual belongs to\n",
    "# Note that 50k is not here, yet, due to unavailability of any 50k data on the RAP\n",
    "def decide_wes(eid):\n",
    "    if eid in samples_200k:\n",
    "        return('200k')\n",
    "    elif eid in samples_450k:\n",
    "        return('450k')\n",
    "    elif eid in samples_470k:\n",
    "        return('470k')\n",
    "    else:\n",
    "        return(None)\n",
    "    \n",
    "df_pandas['wes.batch'] = df_pandas['eid'].apply(lambda x: decide_wes(x))\n"
   ]
  },
  {
   "cell_type": "code",
   "execution_count": 90,
   "id": "c9971d1f",
   "metadata": {
    "pycharm": {
     "name": "#%%\n"
    }
   },
   "outputs": [],
   "source": [
    "# Write an output CSV file:\n",
    "df_pandas.to_csv('base_covariates.covariates', sep = \"\\t\", na_rep=\"NA\", index=False)\n",
    "\n"
   ]
  },
  {
   "cell_type": "markdown",
   "id": "4893ae0b",
   "metadata": {
    "pycharm": {
     "name": "#%% md\n"
    }
   },
   "source": [
    "Make sure to upload the final file from a terminal!\n",
    "dx upload base_covariates.covariates \n",
    "\n",
    "**REMEMBER** This will upload to the container. NOT the project, so be sure to copy it into your project. No idea why it works this way..."
   ]
  }
 ],
 "metadata": {
  "kernelspec": {
   "display_name": "Python 3",
   "language": "python",
   "name": "python3"
  },
  "language_info": {
   "codemirror_mode": {
    "name": "ipython",
    "version": 3
   },
   "file_extension": ".py",
   "mimetype": "text/x-python",
   "name": "python",
   "nbconvert_exporter": "python",
   "pygments_lexer": "ipython3",
   "version": "3.6.5"
  }
 },
 "nbformat": 4,
 "nbformat_minor": 5
}